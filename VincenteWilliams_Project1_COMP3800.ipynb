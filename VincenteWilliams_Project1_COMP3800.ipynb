{
 "cells": [
  {
   "cell_type": "code",
   "execution_count": null,
   "id": "75ec95d0-a509-4f5d-8854-52abc0fe5022",
   "metadata": {},
   "outputs": [],
   "source": [
    "#Imported Libraries\n",
    "import pandas as pd\n",
    "import matplotlib.pyplot as plt\n",
    "import numpy as np"
   ]
  },
  {
   "cell_type": "code",
   "execution_count": null,
   "id": "e17b724c-9929-469a-b329-f39fef05c637",
   "metadata": {},
   "outputs": [],
   "source": [
    "#Imported file with data and loaded the dataframe\n",
    "df = pd.read_csv('recalls_data.csv')"
   ]
  },
  {
   "cell_type": "code",
   "execution_count": null,
   "id": "2438154f-af3d-4517-991e-8debca1f530c",
   "metadata": {},
   "outputs": [],
   "source": [
    "#Printing shape, data types, and first 10 rows of data.\n",
    "print(\"shape\", df.shape)\n",
    "print(df.dtypes)\n",
    "print(df.head(10))"
   ]
  },
  {
   "cell_type": "code",
   "execution_count": 96,
   "id": "b754c32a-9bae-44ce-b5d7-092146285605",
   "metadata": {},
   "outputs": [
    {
     "name": "stdout",
     "output_type": "stream",
     "text": [
      "Report Received Date                            0\n",
      "NHTSA ID                                        0\n",
      "Recall Link                                     0\n",
      "Manufacturer                                    0\n",
      "Subject                                         0\n",
      "Component                                       0\n",
      "Mfr Campaign Number                            47\n",
      "Recall Type                                     0\n",
      "Potentially Affected                           41\n",
      "Recall Description                           2401\n",
      "Consequence Summary                          4888\n",
      "Corrective Action                            2388\n",
      "Park Outside Advisory                           0\n",
      "Do Not Drive Advisory                           0\n",
      "Completion Rate % (Blank - Not Reported)    18646\n",
      "dtype: int64\n",
      "Report Received Date 0.0\n",
      "NHTSA ID 0.0\n",
      "Recall Link 0.0\n",
      "Manufacturer 0.0\n",
      "Subject 0.0\n",
      "Component 0.0\n",
      "Mfr Campaign Number 0.0\n",
      "Recall Type 0.0\n",
      "Potentially Affected 0.0\n",
      "Recall Description 0.08\n",
      "Consequence Summary 0.17\n",
      "Corrective Action 0.08\n",
      "Park Outside Advisory  0.0\n",
      "Do Not Drive Advisory 0.0\n",
      "Completion Rate % (Blank - Not Reported) 0.66\n"
     ]
    }
   ],
   "source": [
    "#Checking Missing Data In Each Column\n",
    "print(df.isnull().sum())\n",
    "#Checking Percentage of Missing Data In Each Column\n",
    "for cols in df.columns:\n",
    "    percent_missing = (df[cols].isnull().sum()/df.shape[0])\n",
    "    print(cols, round(percent_missing, 2))"
   ]
  },
  {
   "cell_type": "code",
   "execution_count": null,
   "id": "61dd6910-85ef-4f76-9101-b03a16e581e7",
   "metadata": {},
   "outputs": [],
   "source": [
    "#Dropping rows where any value is null across columns.\n",
    "print(df.shape)\n",
    "df = df.dropna()\n",
    "print(df.shape)"
   ]
  },
  {
   "cell_type": "code",
   "execution_count": 106,
   "id": "61668bf9-2a2a-4dbb-8bbc-8491c3f515ed",
   "metadata": {},
   "outputs": [
    {
     "name": "stdout",
     "output_type": "stream",
     "text": [
      "count    2.828800e+04\n",
      "mean     4.577569e+04\n",
      "std      3.744440e+05\n",
      "min      0.000000e+00\n",
      "25%      9.900000e+01\n",
      "50%      6.890000e+02\n",
      "75%      6.374000e+03\n",
      "max      3.200000e+07\n",
      "Name: Potentially Affected, dtype: float64\n"
     ]
    },
    {
     "data": {
      "image/png": "[encoded data removed]",
      "text/plain": [
       "<Figure size 640x480 with 1 Axes>"
      ]
     },
     "metadata": {},
     "output_type": "display_data"
    }
   ],
   "source": [
    "#Checking the column Potentially Affected for outliers.\n",
    "df.boxplot(column=['Potentially Affected'])\n",
    "print(df['Potentially Affected'].describe())"
   ]
  },
  {
   "cell_type": "code",
   "execution_count": null,
   "id": "c82e9231-e592-4182-a8e9-2a6050f43df7",
   "metadata": {},
   "outputs": [],
   "source": []
  },
  {
   "cell_type": "code",
   "execution_count": null,
   "id": "2a62cf2f-267d-4f5b-9e88-4228e899f324",
   "metadata": {},
   "outputs": [],
   "source": [
    "import pandas as pd\n",
    "import matplotlib.pyplot as plt\n",
    "\n",
    "df = pd.read_csv('recalls_data.csv')\n",
    "df_dropna = df.dropna()\n",
    "print(df_dropna.shape)\n",
    "df_dropna_selectedColumns = df_dropna[['Report Received Date', 'Manufacturer', 'Subject', 'Component', 'Recall Type']]\n",
    "print(df_dropna_selectedColumns.shape)\n",
    "\n",
    "df_order = df_dropna_selectedColumns[\"Manufacturer\"].value_counts()\n",
    "print(df_order.head(10))"
   ]
  },
  {
   "cell_type": "code",
   "execution_count": 140,
   "id": "59f88a41-a39b-424c-8d9a-5f79d0530f17",
   "metadata": {},
   "outputs": [
    {
     "name": "stdout",
     "output_type": "stream",
     "text": [
      "(9660, 15)\n",
      "(9660, 5)\n",
      "Component\n",
      "EQUIPMENT                    1688\n",
      "ELECTRICAL SYSTEM            1292\n",
      "AIR BAGS                      685\n",
      "STRUCTURE                     542\n",
      "POWER TRAIN                   530\n",
      "STEERING                      512\n",
      "SUSPENSION                    488\n",
      "EXTERIOR LIGHTING             431\n",
      "SERVICE BRAKES, HYDRAULIC     350\n",
      "SEAT BELTS                    319\n",
      "Name: count, dtype: int64\n"
     ]
    }
   ],
   "source": [
    "import pandas as pd\n",
    "\n",
    "df = pd.read_csv('recalls_data.csv')\n",
    "df_dropna = df.dropna()\n",
    "print(df_dropna.shape)\n",
    "df_dropna_selectedColumns = df_dropna[['Report Received Date', 'Manufacturer', 'Subject', 'Component', 'Recall Type']]\n",
    "print(df_dropna_selectedColumns.shape)\n",
    "\n",
    "df_order = df_dropna_selectedColumns[\"Component\"].value_counts()\n",
    "print(df_order.head(10))"
   ]
  },
  {
   "cell_type": "code",
   "execution_count": 89,
   "id": "496394fb-d76d-47e0-9160-3cb7907e5617",
   "metadata": {},
   "outputs": [
    {
     "name": "stdout",
     "output_type": "stream",
     "text": [
      "(28329, 15)\n",
      "(28329, 15)\n",
      "Recall Type\n",
      "Vehicle       24640\n",
      "Equipment      2694\n",
      "Tire            758\n",
      "Child Seat      237\n",
      "Name: count, dtype: int64\n"
     ]
    }
   ],
   "source": [
    "import pandas as pd\n",
    "df = pd.read_csv('recalls_data.csv')\n",
    "df_order = df[\"Recall Type\"].value_counts()\n",
    "print(df_order.head(10))"
   ]
  },
  {
   "cell_type": "code",
   "execution_count": 5,
   "id": "9e8d7b99-e7ad-4834-a466-ea487723df7d",
   "metadata": {},
   "outputs": [
    {
     "name": "stdout",
     "output_type": "stream",
     "text": [
      "(9660, 15)\n",
      "(9660, 5)\n",
      "object\n",
      "datetime64[ns]\n",
      "(0, 5)\n",
      "(9660, 5)\n"
     ]
    },
    {
     "name": "stderr",
     "output_type": "stream",
     "text": [
      "C:\\Users\\vince\\AppData\\Local\\Temp\\ipykernel_14672\\2823887663.py:10: SettingWithCopyWarning: \n",
      "A value is trying to be set on a copy of a slice from a DataFrame.\n",
      "Try using .loc[row_indexer,col_indexer] = value instead\n",
      "\n",
      "See the caveats in the documentation: https://pandas.pydata.org/pandas-docs/stable/user_guide/indexing.html#returning-a-view-versus-a-copy\n",
      "  df_dropna_selectedColumns['Report Received Date']=df_dropna_selectedColumns['Report Received Date'].apply(pd.to_datetime)\n"
     ]
    }
   ],
   "source": [
    "import pandas as pd\n",
    "\n",
    "df = pd.read_csv('recalls_data.csv')\n",
    "df_dropna = df.dropna()\n",
    "print(df_dropna.shape)\n",
    "df_dropna_selectedColumns = df_dropna[['Report Received Date', 'Manufacturer', 'Subject', 'Component', 'Recall Type']]\n",
    "print(df_dropna_selectedColumns.shape)\n",
    "\n",
    "print(df_dropna_selectedColumns['Report Received Date'].dtypes)\n",
    "df_dropna_selectedColumns['Report Received Date']=df_dropna_selectedColumns['Report Received Date'].apply(pd.to_datetime)\n",
    "\n",
    "print(df_dropna_selectedColumns['Report Received Date'].dtypes)\n",
    "\n",
    "start_date = '1966-01-19'\n",
    "end_date = '1999-12-31'\n",
    "df_before1999 = df_dropna_selectedColumns.loc[(df_dropna_selectedColumns['Report Received Date'] >= start_date) & (df_dropna_selectedColumns['Report Received Date'] <= end_date)]\n",
    "\n",
    "start_date2 = '2000-01-01'\n",
    "end_date2 = '2024-09-13'\n",
    "df_after1999 = df_dropna_selectedColumns.loc[(df_dropna_selectedColumns['Report Received Date'] >= start_date2) & (df_dropna_selectedColumns['Report Received Date'] <= end_date2)]\n",
    "\n",
    "print(df_before1999.shape)\n",
    "print(df_after1999.shape)"
   ]
  },
  {
   "cell_type": "code",
   "execution_count": 52,
   "id": "c47baffd-b23b-4d62-a827-deff204a3ef5",
   "metadata": {},
   "outputs": [
    {
     "name": "stdout",
     "output_type": "stream",
     "text": [
      "<bound method DataFrame.sort_values of                                    Recall Type\n",
      "Manufacturer                                  \n",
      "1888653 Ontario Inc                          1\n",
      "3M Transportation Safety Division            1\n",
      "4-Star Trailers, Inc.                        2\n",
      "A&J Vans Inc                                 1\n",
      "A&M Systems, Inc.                            1\n",
      "...                                        ...\n",
      "Zero Motorcycles Inc.                       14\n",
      "Zhaoqing Junhong Co., Ltd.                   2\n",
      "Ziamatic Corp                                1\n",
      "e-ride Industries                            1\n",
      "xperion E&E USA LLC                          1\n",
      "\n",
      "[917 rows x 1 columns]>\n"
     ]
    }
   ],
   "source": [
    "import pandas as pd\n",
    "\n",
    "df = pd.read_csv('recalls_data.csv')\n",
    "df_dropna = df.dropna()\n",
    "df_dropna_selectedColumns = df_dropna[['Report Received Date', 'Manufacturer', 'Subject', 'Component', 'Recall Type']]\n",
    "\n",
    "df_pivot = df_dropna_selectedColumns.pivot_table(index='Manufacturer', values='Recall Type', aggfunc='count')\n",
    "print(df_pivot.sort_values)"
   ]
  },
  {
   "cell_type": "code",
   "execution_count": 26,
   "id": "75f9cb53-dda6-463b-9c5f-d7f929e48532",
   "metadata": {},
   "outputs": [
    {
     "name": "stdout",
     "output_type": "stream",
     "text": [
      "Index(['Report Received Date', 'NHTSA ID', 'Recall Link', 'Manufacturer',\n",
      "       'Subject', 'Component', 'Mfr Campaign Number', 'Recall Type',\n",
      "       'Potentially Affected', 'Recall Description', 'Consequence Summary',\n",
      "       'Corrective Action', 'Park Outside Advisory ', 'Do Not Drive Advisory',\n",
      "       'Completion Rate % (Blank - Not Reported)'],\n",
      "      dtype='object')\n"
     ]
    }
   ],
   "source": [
    "import pandas as pd\n",
    "\n",
    "df = pd.read_csv('recalls_data.csv')\n",
    "print(df.columns)"
   ]
  },
  {
   "cell_type": "code",
   "execution_count": 84,
   "id": "33f102d5-59ad-4a3d-978c-b5a5687259fe",
   "metadata": {},
   "outputs": [
    {
     "name": "stderr",
     "output_type": "stream",
     "text": [
      "C:\\Users\\vince\\AppData\\Local\\Temp\\ipykernel_14672\\3127500224.py:6: SettingWithCopyWarning: \n",
      "A value is trying to be set on a copy of a slice from a DataFrame.\n",
      "Try using .loc[row_indexer,col_indexer] = value instead\n",
      "\n",
      "See the caveats in the documentation: https://pandas.pydata.org/pandas-docs/stable/user_guide/indexing.html#returning-a-view-versus-a-copy\n",
      "  df_selectedColumns['Report Received Date']=df_selectedColumns['Report Received Date'].apply(pd.to_datetime)\n",
      "C:\\Users\\vince\\AppData\\Local\\Temp\\ipykernel_14672\\3127500224.py:8: SettingWithCopyWarning: \n",
      "A value is trying to be set on a copy of a slice from a DataFrame.\n",
      "Try using .loc[row_indexer,col_indexer] = value instead\n",
      "\n",
      "See the caveats in the documentation: https://pandas.pydata.org/pandas-docs/stable/user_guide/indexing.html#returning-a-view-versus-a-copy\n",
      "  df_selectedColumns['Report Received Date'] = df_selectedColumns['Report Received Date'].dt.year\n"
     ]
    },
    {
     "ename": "ValueError",
     "evalue": "The truth value of a Series is ambiguous. Use a.empty, a.bool(), a.item(), a.any() or a.all().",
     "output_type": "error",
     "traceback": [
      "\u001b[1;31m---------------------------------------------------------------------------\u001b[0m",
      "\u001b[1;31mValueError\u001b[0m                                Traceback (most recent call last)",
      "\u001b[1;32m~\\AppData\\Local\\Temp\\ipykernel_14672\\3127500224.py\u001b[0m in \u001b[0;36m?\u001b[1;34m()\u001b[0m\n\u001b[0;32m     10\u001b[0m \u001b[0mdf_selectedColumns\u001b[0m\u001b[1;33m.\u001b[0m\u001b[0mhist\u001b[0m\u001b[1;33m(\u001b[0m\u001b[0mcolumn\u001b[0m\u001b[1;33m=\u001b[0m\u001b[1;34m'Report Received Date'\u001b[0m\u001b[1;33m,\u001b[0m \u001b[0mbins\u001b[0m\u001b[1;33m=\u001b[0m\u001b[0mrange\u001b[0m\u001b[1;33m(\u001b[0m\u001b[1;36m1966\u001b[0m\u001b[1;33m,\u001b[0m \u001b[1;36m2024\u001b[0m\u001b[1;33m)\u001b[0m\u001b[1;33m,\u001b[0m \u001b[0medgecolor\u001b[0m\u001b[1;33m=\u001b[0m\u001b[1;34m'black'\u001b[0m\u001b[1;33m)\u001b[0m\u001b[1;33m\u001b[0m\u001b[1;33m\u001b[0m\u001b[0m\n\u001b[0;32m     11\u001b[0m \u001b[0mplt\u001b[0m\u001b[1;33m.\u001b[0m\u001b[0mtitle\u001b[0m\u001b[1;33m(\u001b[0m\u001b[1;34m'Histogram of Years of Recalls Since 1966'\u001b[0m\u001b[1;33m)\u001b[0m\u001b[1;33m\u001b[0m\u001b[1;33m\u001b[0m\u001b[0m\n\u001b[0;32m     12\u001b[0m \u001b[0mplt\u001b[0m\u001b[1;33m.\u001b[0m\u001b[0mxlabel\u001b[0m\u001b[1;33m(\u001b[0m\u001b[1;34m'Year'\u001b[0m\u001b[1;33m)\u001b[0m\u001b[1;33m\u001b[0m\u001b[1;33m\u001b[0m\u001b[0m\n\u001b[0;32m     13\u001b[0m \u001b[0mplt\u001b[0m\u001b[1;33m.\u001b[0m\u001b[0mylabel\u001b[0m\u001b[1;33m(\u001b[0m\u001b[1;34m'Frequency'\u001b[0m\u001b[1;33m)\u001b[0m\u001b[1;33m\u001b[0m\u001b[1;33m\u001b[0m\u001b[0m\n\u001b[1;32m---> 14\u001b[1;33m \u001b[0mplt\u001b[0m\u001b[1;33m.\u001b[0m\u001b[0maxvline\u001b[0m\u001b[1;33m(\u001b[0m\u001b[1;33m(\u001b[0m\u001b[0mdf_selectedColumns\u001b[0m\u001b[1;33m[\u001b[0m\u001b[1;34m'Report Received Date'\u001b[0m\u001b[1;33m]\u001b[0m \u001b[1;33m==\u001b[0m \u001b[1;34m'1999'\u001b[0m\u001b[1;33m)\u001b[0m\u001b[1;33m,\u001b[0m \u001b[0mcolor\u001b[0m\u001b[1;33m=\u001b[0m\u001b[1;34m'red'\u001b[0m\u001b[1;33m,\u001b[0m \u001b[0mlinestyle\u001b[0m\u001b[1;33m=\u001b[0m\u001b[1;34m'dashed'\u001b[0m\u001b[1;33m,\u001b[0m \u001b[0mlinewidth\u001b[0m\u001b[1;33m=\u001b[0m\u001b[1;36m1\u001b[0m\u001b[1;33m)\u001b[0m\u001b[1;33m\u001b[0m\u001b[1;33m\u001b[0m\u001b[0m\n\u001b[0m\u001b[0;32m     15\u001b[0m \u001b[1;33m\u001b[0m\u001b[0m\n\u001b[0;32m     16\u001b[0m \u001b[0mplt\u001b[0m\u001b[1;33m.\u001b[0m\u001b[0mshow\u001b[0m\u001b[1;33m(\u001b[0m\u001b[1;33m)\u001b[0m\u001b[1;33m\u001b[0m\u001b[1;33m\u001b[0m\u001b[0m\n",
      "\u001b[1;32m~\\anaconda3\\Lib\\site-packages\\matplotlib\\pyplot.py\u001b[0m in \u001b[0;36m?\u001b[1;34m(x, ymin, ymax, **kwargs)\u001b[0m\n\u001b[0;32m   2729\u001b[0m \u001b[1;33m@\u001b[0m\u001b[0m_copy_docstring_and_deprecators\u001b[0m\u001b[1;33m(\u001b[0m\u001b[0mAxes\u001b[0m\u001b[1;33m.\u001b[0m\u001b[0maxvline\u001b[0m\u001b[1;33m)\u001b[0m\u001b[1;33m\u001b[0m\u001b[1;33m\u001b[0m\u001b[0m\n\u001b[0;32m   2730\u001b[0m \u001b[1;32mdef\u001b[0m \u001b[0maxvline\u001b[0m\u001b[1;33m(\u001b[0m\u001b[0mx\u001b[0m\u001b[1;33m:\u001b[0m \u001b[0mfloat\u001b[0m \u001b[1;33m=\u001b[0m \u001b[1;36m0\u001b[0m\u001b[1;33m,\u001b[0m \u001b[0mymin\u001b[0m\u001b[1;33m:\u001b[0m \u001b[0mfloat\u001b[0m \u001b[1;33m=\u001b[0m \u001b[1;36m0\u001b[0m\u001b[1;33m,\u001b[0m \u001b[0mymax\u001b[0m\u001b[1;33m:\u001b[0m \u001b[0mfloat\u001b[0m \u001b[1;33m=\u001b[0m \u001b[1;36m1\u001b[0m\u001b[1;33m,\u001b[0m \u001b[1;33m**\u001b[0m\u001b[0mkwargs\u001b[0m\u001b[1;33m)\u001b[0m \u001b[1;33m->\u001b[0m \u001b[0mLine2D\u001b[0m\u001b[1;33m:\u001b[0m\u001b[1;33m\u001b[0m\u001b[1;33m\u001b[0m\u001b[0m\n\u001b[1;32m-> 2731\u001b[1;33m     \u001b[1;32mreturn\u001b[0m \u001b[0mgca\u001b[0m\u001b[1;33m(\u001b[0m\u001b[1;33m)\u001b[0m\u001b[1;33m.\u001b[0m\u001b[0maxvline\u001b[0m\u001b[1;33m(\u001b[0m\u001b[0mx\u001b[0m\u001b[1;33m=\u001b[0m\u001b[0mx\u001b[0m\u001b[1;33m,\u001b[0m \u001b[0mymin\u001b[0m\u001b[1;33m=\u001b[0m\u001b[0mymin\u001b[0m\u001b[1;33m,\u001b[0m \u001b[0mymax\u001b[0m\u001b[1;33m=\u001b[0m\u001b[0mymax\u001b[0m\u001b[1;33m,\u001b[0m \u001b[1;33m**\u001b[0m\u001b[0mkwargs\u001b[0m\u001b[1;33m)\u001b[0m\u001b[1;33m\u001b[0m\u001b[1;33m\u001b[0m\u001b[0m\n\u001b[0m",
      "\u001b[1;32m~\\anaconda3\\Lib\\site-packages\\matplotlib\\axes\\_axes.py\u001b[0m in \u001b[0;36m?\u001b[1;34m(self, x, ymin, ymax, **kwargs)\u001b[0m\n\u001b[0;32m    848\u001b[0m         \u001b[0mxmin\u001b[0m\u001b[1;33m,\u001b[0m \u001b[0mxmax\u001b[0m \u001b[1;33m=\u001b[0m \u001b[0mself\u001b[0m\u001b[1;33m.\u001b[0m\u001b[0mget_xbound\u001b[0m\u001b[1;33m(\u001b[0m\u001b[1;33m)\u001b[0m\u001b[1;33m\u001b[0m\u001b[1;33m\u001b[0m\u001b[0m\n\u001b[0;32m    849\u001b[0m \u001b[1;33m\u001b[0m\u001b[0m\n\u001b[0;32m    850\u001b[0m         \u001b[1;31m# Strip away the units for comparison with non-unitized bounds.\u001b[0m\u001b[1;33m\u001b[0m\u001b[1;33m\u001b[0m\u001b[0m\n\u001b[0;32m    851\u001b[0m         \u001b[0mxx\u001b[0m\u001b[1;33m,\u001b[0m \u001b[1;33m=\u001b[0m \u001b[0mself\u001b[0m\u001b[1;33m.\u001b[0m\u001b[0m_process_unit_info\u001b[0m\u001b[1;33m(\u001b[0m\u001b[1;33m[\u001b[0m\u001b[1;33m(\u001b[0m\u001b[1;34m\"x\"\u001b[0m\u001b[1;33m,\u001b[0m \u001b[0mx\u001b[0m\u001b[1;33m)\u001b[0m\u001b[1;33m]\u001b[0m\u001b[1;33m,\u001b[0m \u001b[0mkwargs\u001b[0m\u001b[1;33m)\u001b[0m\u001b[1;33m\u001b[0m\u001b[1;33m\u001b[0m\u001b[0m\n\u001b[1;32m--> 852\u001b[1;33m         \u001b[0mscalex\u001b[0m \u001b[1;33m=\u001b[0m \u001b[1;33m(\u001b[0m\u001b[0mxx\u001b[0m \u001b[1;33m<\u001b[0m \u001b[0mxmin\u001b[0m\u001b[1;33m)\u001b[0m \u001b[1;32mor\u001b[0m \u001b[1;33m(\u001b[0m\u001b[0mxx\u001b[0m \u001b[1;33m>\u001b[0m \u001b[0mxmax\u001b[0m\u001b[1;33m)\u001b[0m\u001b[1;33m\u001b[0m\u001b[1;33m\u001b[0m\u001b[0m\n\u001b[0m\u001b[0;32m    853\u001b[0m \u001b[1;33m\u001b[0m\u001b[0m\n\u001b[0;32m    854\u001b[0m         \u001b[0mtrans\u001b[0m \u001b[1;33m=\u001b[0m \u001b[0mself\u001b[0m\u001b[1;33m.\u001b[0m\u001b[0mget_xaxis_transform\u001b[0m\u001b[1;33m(\u001b[0m\u001b[0mwhich\u001b[0m\u001b[1;33m=\u001b[0m\u001b[1;34m'grid'\u001b[0m\u001b[1;33m)\u001b[0m\u001b[1;33m\u001b[0m\u001b[1;33m\u001b[0m\u001b[0m\n\u001b[0;32m    855\u001b[0m         \u001b[0ml\u001b[0m \u001b[1;33m=\u001b[0m \u001b[0mmlines\u001b[0m\u001b[1;33m.\u001b[0m\u001b[0mLine2D\u001b[0m\u001b[1;33m(\u001b[0m\u001b[1;33m[\u001b[0m\u001b[0mx\u001b[0m\u001b[1;33m,\u001b[0m \u001b[0mx\u001b[0m\u001b[1;33m]\u001b[0m\u001b[1;33m,\u001b[0m \u001b[1;33m[\u001b[0m\u001b[0mymin\u001b[0m\u001b[1;33m,\u001b[0m \u001b[0mymax\u001b[0m\u001b[1;33m]\u001b[0m\u001b[1;33m,\u001b[0m \u001b[0mtransform\u001b[0m\u001b[1;33m=\u001b[0m\u001b[0mtrans\u001b[0m\u001b[1;33m,\u001b[0m \u001b[1;33m**\u001b[0m\u001b[0mkwargs\u001b[0m\u001b[1;33m)\u001b[0m\u001b[1;33m\u001b[0m\u001b[1;33m\u001b[0m\u001b[0m\n",
      "\u001b[1;32m~\\anaconda3\\Lib\\site-packages\\pandas\\core\\generic.py\u001b[0m in \u001b[0;36m?\u001b[1;34m(self)\u001b[0m\n\u001b[0;32m   1575\u001b[0m     \u001b[1;33m@\u001b[0m\u001b[0mfinal\u001b[0m\u001b[1;33m\u001b[0m\u001b[1;33m\u001b[0m\u001b[0m\n\u001b[0;32m   1576\u001b[0m     \u001b[1;32mdef\u001b[0m \u001b[0m__nonzero__\u001b[0m\u001b[1;33m(\u001b[0m\u001b[0mself\u001b[0m\u001b[1;33m)\u001b[0m \u001b[1;33m->\u001b[0m \u001b[0mNoReturn\u001b[0m\u001b[1;33m:\u001b[0m\u001b[1;33m\u001b[0m\u001b[1;33m\u001b[0m\u001b[0m\n\u001b[1;32m-> 1577\u001b[1;33m         raise ValueError(\n\u001b[0m\u001b[0;32m   1578\u001b[0m             \u001b[1;33mf\"\u001b[0m\u001b[1;33mThe truth value of a \u001b[0m\u001b[1;33m{\u001b[0m\u001b[0mtype\u001b[0m\u001b[1;33m(\u001b[0m\u001b[0mself\u001b[0m\u001b[1;33m)\u001b[0m\u001b[1;33m.\u001b[0m\u001b[0m__name__\u001b[0m\u001b[1;33m}\u001b[0m\u001b[1;33m is ambiguous. \u001b[0m\u001b[1;33m\"\u001b[0m\u001b[1;33m\u001b[0m\u001b[1;33m\u001b[0m\u001b[0m\n\u001b[0;32m   1579\u001b[0m             \u001b[1;34m\"Use a.empty, a.bool(), a.item(), a.any() or a.all().\"\u001b[0m\u001b[1;33m\u001b[0m\u001b[1;33m\u001b[0m\u001b[0m\n\u001b[0;32m   1580\u001b[0m         \u001b[1;33m)\u001b[0m\u001b[1;33m\u001b[0m\u001b[1;33m\u001b[0m\u001b[0m\n",
      "\u001b[1;31mValueError\u001b[0m: The truth value of a Series is ambiguous. Use a.empty, a.bool(), a.item(), a.any() or a.all()."
     ]
    },
    {
     "data": {
      "image/png": "[encoded data removed]",
      "text/plain": [
       "<Figure size 640x480 with 1 Axes>"
      ]
     },
     "metadata": {},
     "output_type": "display_data"
    }
   ],
   "source": [
    "import pandas as pd\n",
    "import matplotlib.pyplot as plt\n",
    "\n",
    "df = pd.read_csv('recalls_data.csv')\n",
    "df_selectedColumns = df[['Report Received Date', 'Manufacturer', 'Subject', 'Component', 'Recall Type']]\n",
    "df_selectedColumns['Report Received Date']=df_selectedColumns['Report Received Date'].apply(pd.to_datetime)\n",
    "\n",
    "df_selectedColumns['Report Received Date'] = df_selectedColumns['Report Received Date'].dt.year\n",
    "\n",
    "df_selectedColumns.hist(column='Report Received Date', bins=range(1966, 2024), edgecolor='black')\n",
    "plt.title('Histogram of Years of Recalls Since 1966')\n",
    "plt.xlabel('Year')\n",
    "plt.ylabel('Frequency')\n",
    "plt.axvline((df_selectedColumns['Report Received Date'] == '1999'), color='red', linestyle='dashed', linewidth=1)\n",
    "\n",
    "plt.show()"
   ]
  },
  {
   "cell_type": "code",
   "execution_count": null,
   "id": "40492ccc-5f95-4376-bc3a-f0d07d1f82a0",
   "metadata": {},
   "outputs": [],
   "source": []
  }
 ],
 "metadata": {
  "kernelspec": {
   "display_name": "Python 3 (ipykernel)",
   "language": "python",
   "name": "python3"
  },
  "language_info": {
   "codemirror_mode": {
    "name": "ipython",
    "version": 3
   },
   "file_extension": ".py",
   "mimetype": "text/x-python",
   "name": "python",
   "nbconvert_exporter": "python",
   "pygments_lexer": "ipython3",
   "version": "3.12.4"
  }
 },
 "nbformat": 4,
 "nbformat_minor": 5
}
